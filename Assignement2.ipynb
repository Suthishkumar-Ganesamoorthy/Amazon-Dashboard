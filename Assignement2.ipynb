{
  "nbformat": 4,
  "nbformat_minor": 0,
  "metadata": {
    "colab": {
      "provenance": [],
      "authorship_tag": "ABX9TyMgg87NaMeyCjsPXbfDzb1f",
      "include_colab_link": true
    },
    "kernelspec": {
      "name": "python3",
      "display_name": "Python 3"
    },
    "language_info": {
      "name": "python"
    }
  },
  "cells": [
    {
      "cell_type": "markdown",
      "metadata": {
        "id": "view-in-github",
        "colab_type": "text"
      },
      "source": [
        "<a href=\"https://colab.research.google.com/github/Suthishkumar-Ganesamoorthy/Amazon-Dashboard/blob/main/Assignement2.ipynb\" target=\"_parent\"><img src=\"https://colab.research.google.com/assets/colab-badge.svg\" alt=\"Open In Colab\"/></a>"
      ]
    },
    {
      "cell_type": "markdown",
      "source": [
        "a.\tCreate a list named age_list with five integer elements. For eg., [24, 25, 26, 27, 28]\n",
        "b.\tCreate a list named name_list with five string elements."
      ],
      "metadata": {
        "id": "pwAJOKwPT6NU"
      }
    },
    {
      "cell_type": "code",
      "execution_count": null,
      "metadata": {
        "id": "lhv0r4Zi7JGr",
        "colab": {
          "base_uri": "https://localhost:8080/"
        },
        "outputId": "6946c917-6471-4d40-f884-f51b5b390307"
      },
      "outputs": [
        {
          "output_type": "execute_result",
          "data": {
            "text/plain": [
              "[24, 25, 26, 27, 28]"
            ]
          },
          "metadata": {},
          "execution_count": 4
        }
      ],
      "source": [
        "age_list = [24, 25, 26, 27, 28]\n",
        "name_list = ['John', 'Jane', 'Jack', 'Jill', 'Joe']\n",
        "age_list"
      ]
    },
    {
      "cell_type": "markdown",
      "source": [
        "a.\tAppend the string \"Yazhini\" to name_list."
      ],
      "metadata": {
        "id": "gEWiZ9l2UWfV"
      }
    },
    {
      "cell_type": "code",
      "source": [
        "name_list.append('Yazhini')\n",
        "name_list"
      ],
      "metadata": {
        "colab": {
          "base_uri": "https://localhost:8080/"
        },
        "id": "ue97C5ZQUTwU",
        "outputId": "34ee251b-7fef-4c1a-f4d0-c7042033497e"
      },
      "execution_count": null,
      "outputs": [
        {
          "output_type": "execute_result",
          "data": {
            "text/plain": [
              "['John', 'Jane', 'Jack', 'Jill', 'Joe', 'Yazhini']"
            ]
          },
          "metadata": {},
          "execution_count": 10
        }
      ]
    },
    {
      "cell_type": "markdown",
      "source": [
        "b.\tInsert the element 30 at index 2 in age_list."
      ],
      "metadata": {
        "id": "yheHqUL3U5oY"
      }
    },
    {
      "cell_type": "code",
      "source": [
        "age_list.insert(2, 30)\n",
        "age_list"
      ],
      "metadata": {
        "colab": {
          "base_uri": "https://localhost:8080/"
        },
        "id": "9DWsrr6FUlq7",
        "outputId": "67309d83-7202-4714-a349-fe73fa91093f"
      },
      "execution_count": null,
      "outputs": [
        {
          "output_type": "execute_result",
          "data": {
            "text/plain": [
              "[24, 25, 30, 26, 27, 28]"
            ]
          },
          "metadata": {},
          "execution_count": 8
        }
      ]
    },
    {
      "cell_type": "markdown",
      "source": [
        "c.\tRemove the string \"Yazhini\" from name_list."
      ],
      "metadata": {
        "id": "wqEgMUfUVKdC"
      }
    },
    {
      "cell_type": "code",
      "source": [
        "name_list.remove('Yazhini')\n",
        "name_list"
      ],
      "metadata": {
        "colab": {
          "base_uri": "https://localhost:8080/"
        },
        "id": "rOL9rNcOVB6M",
        "outputId": "46a19681-bd69-411c-91d0-383ef978c8c0"
      },
      "execution_count": null,
      "outputs": [
        {
          "output_type": "execute_result",
          "data": {
            "text/plain": [
              "['John', 'Jane', 'Jack', 'Jill', 'Joe']"
            ]
          },
          "metadata": {},
          "execution_count": 11
        }
      ]
    },
    {
      "cell_type": "markdown",
      "source": [
        "d.\tPop the last element from age_list."
      ],
      "metadata": {
        "id": "-hdURFnlVTUh"
      }
    },
    {
      "cell_type": "code",
      "source": [
        "age_list.pop(-1)\n",
        "age_list"
      ],
      "metadata": {
        "colab": {
          "base_uri": "https://localhost:8080/"
        },
        "id": "JMOPgTfZVQkU",
        "outputId": "ed74bd6a-b4bd-4531-b289-89a70884e7f9"
      },
      "execution_count": null,
      "outputs": [
        {
          "output_type": "execute_result",
          "data": {
            "text/plain": [
              "[24, 25, 30, 26, 27]"
            ]
          },
          "metadata": {},
          "execution_count": 12
        }
      ]
    },
    {
      "cell_type": "markdown",
      "source": [
        "e.\tExtend the age_list with additional ages [29, 30, 26]."
      ],
      "metadata": {
        "id": "2E4BbBM5Vejt"
      }
    },
    {
      "cell_type": "code",
      "source": [
        "age_list.extend([29, 30, 26])\n",
        "age_list"
      ],
      "metadata": {
        "colab": {
          "base_uri": "https://localhost:8080/"
        },
        "id": "vJb1N5IDVYdq",
        "outputId": "a0523094-df76-47fb-d21f-443b96a05d1e"
      },
      "execution_count": null,
      "outputs": [
        {
          "output_type": "execute_result",
          "data": {
            "text/plain": [
              "[24, 25, 30, 26, 27, 29, 30, 26]"
            ]
          },
          "metadata": {},
          "execution_count": 13
        }
      ]
    },
    {
      "cell_type": "markdown",
      "source": [
        "f.\tSort age_list in descending order."
      ],
      "metadata": {
        "id": "VL1JcIUPVqcd"
      }
    },
    {
      "cell_type": "code",
      "source": [
        "age_list[::-1]"
      ],
      "metadata": {
        "colab": {
          "base_uri": "https://localhost:8080/"
        },
        "id": "CxnaczvcVm1t",
        "outputId": "06fe8c8a-ba85-422f-bf91-8414cebcb5c8"
      },
      "execution_count": null,
      "outputs": [
        {
          "output_type": "execute_result",
          "data": {
            "text/plain": [
              "[30, 30, 29, 27, 26, 26, 25, 24]"
            ]
          },
          "metadata": {},
          "execution_count": 31
        }
      ]
    },
    {
      "cell_type": "markdown",
      "source": [
        "g.\tFind Max age, Min age and sum of all ages from age_list."
      ],
      "metadata": {
        "id": "c8_3q0YlWCjT"
      }
    },
    {
      "cell_type": "code",
      "source": [
        "age_list.sort()\n",
        "print(f'max age: {age_list[-1]}')\n",
        "print(f'min age: {age_list[0]}')\n",
        "print(f'sum of all ages: {sum(age_list)}')\n",
        "age_list"
      ],
      "metadata": {
        "colab": {
          "base_uri": "https://localhost:8080/"
        },
        "id": "4FjAFl1gV1_h",
        "outputId": "eeb0432b-bbd8-4916-a183-06cff3c0929d"
      },
      "execution_count": null,
      "outputs": [
        {
          "output_type": "stream",
          "name": "stdout",
          "text": [
            "max age: 30\n",
            "min age: 24\n",
            "sum of all ages: 217\n"
          ]
        },
        {
          "output_type": "execute_result",
          "data": {
            "text/plain": [
              "[24, 25, 26, 26, 27, 29, 30, 30]"
            ]
          },
          "metadata": {},
          "execution_count": 22
        }
      ]
    },
    {
      "cell_type": "markdown",
      "source": [
        "h.\tMake a copy of age_list and store as age_list_copy"
      ],
      "metadata": {
        "id": "tHSXD_ZDYO3o"
      }
    },
    {
      "cell_type": "code",
      "source": [
        "age_list_copy = age_list.copy()\n",
        "age_list_copy"
      ],
      "metadata": {
        "colab": {
          "base_uri": "https://localhost:8080/"
        },
        "id": "9fqyYC8mWtH6",
        "outputId": "12f9ee9e-8add-4a55-89da-31a45a247aec"
      },
      "execution_count": null,
      "outputs": [
        {
          "output_type": "execute_result",
          "data": {
            "text/plain": [
              "[24, 25, 26, 26, 27, 29, 30, 30]"
            ]
          },
          "metadata": {},
          "execution_count": 23
        }
      ]
    },
    {
      "cell_type": "markdown",
      "source": [
        "i.\tClear all elements from age_list_copy."
      ],
      "metadata": {
        "id": "7X2wXJcRYaeE"
      }
    },
    {
      "cell_type": "code",
      "source": [
        "age_list_copy.clear()\n",
        "age_list_copy"
      ],
      "metadata": {
        "colab": {
          "base_uri": "https://localhost:8080/"
        },
        "id": "9VbPGTQyYV4e",
        "outputId": "8c8ed027-951d-40b2-87cf-f996bb9d2bcb"
      },
      "execution_count": null,
      "outputs": [
        {
          "output_type": "execute_result",
          "data": {
            "text/plain": [
              "[]"
            ]
          },
          "metadata": {},
          "execution_count": 24
        }
      ]
    },
    {
      "cell_type": "markdown",
      "source": [
        "a.\tPrint the first element of name_list."
      ],
      "metadata": {
        "id": "O9BKCcN_ZVQf"
      }
    },
    {
      "cell_type": "code",
      "source": [
        "name_list[0]"
      ],
      "metadata": {
        "colab": {
          "base_uri": "https://localhost:8080/",
          "height": 36
        },
        "id": "NLN_m04eZREF",
        "outputId": "0ea62ba4-e15b-4801-9901-8f327a4852df"
      },
      "execution_count": null,
      "outputs": [
        {
          "output_type": "execute_result",
          "data": {
            "text/plain": [
              "'John'"
            ],
            "application/vnd.google.colaboratory.intrinsic+json": {
              "type": "string"
            }
          },
          "metadata": {},
          "execution_count": 25
        }
      ]
    },
    {
      "cell_type": "markdown",
      "source": [
        "b.\tPrint the last element of name_list."
      ],
      "metadata": {
        "id": "CsCbiUo7ZcYk"
      }
    },
    {
      "cell_type": "code",
      "source": [
        "name_list[-1]"
      ],
      "metadata": {
        "colab": {
          "base_uri": "https://localhost:8080/",
          "height": 36
        },
        "id": "UwbsJIZEZYyU",
        "outputId": "c7eeb6fb-0c80-4575-9012-f4224f445bfc"
      },
      "execution_count": null,
      "outputs": [
        {
          "output_type": "execute_result",
          "data": {
            "text/plain": [
              "'Joe'"
            ],
            "application/vnd.google.colaboratory.intrinsic+json": {
              "type": "string"
            }
          },
          "metadata": {},
          "execution_count": 27
        }
      ]
    },
    {
      "cell_type": "markdown",
      "source": [
        "c.\tPrint the elements from index 2 to index 4 in name_list."
      ],
      "metadata": {
        "id": "magba7FeZi-r"
      }
    },
    {
      "cell_type": "code",
      "source": [
        "name_list[2:5]"
      ],
      "metadata": {
        "colab": {
          "base_uri": "https://localhost:8080/"
        },
        "id": "C4q6yr3JZiJ3",
        "outputId": "e97186e7-73e4-4e1b-f92e-7c7c899d493f"
      },
      "execution_count": null,
      "outputs": [
        {
          "output_type": "execute_result",
          "data": {
            "text/plain": [
              "['Jack', 'Jill', 'Joe']"
            ]
          },
          "metadata": {},
          "execution_count": 28
        }
      ]
    },
    {
      "cell_type": "markdown",
      "source": [
        "d.\tPrint the elements of name_list in reverse order."
      ],
      "metadata": {
        "id": "5CBdPzq5Z1tE"
      }
    },
    {
      "cell_type": "code",
      "source": [
        "name_list[::-1]"
      ],
      "metadata": {
        "colab": {
          "base_uri": "https://localhost:8080/"
        },
        "id": "bx6UkUOOZwpg",
        "outputId": "e0c9a068-b9d4-4f50-c7fa-792c48322024"
      },
      "execution_count": null,
      "outputs": [
        {
          "output_type": "execute_result",
          "data": {
            "text/plain": [
              "['Joe', 'Jill', 'Jack', 'Jane', 'John']"
            ]
          },
          "metadata": {},
          "execution_count": 30
        }
      ]
    },
    {
      "cell_type": "markdown",
      "source": [
        "e.\tCreate a list called list_dup = [1, 2, 1, 1, 3, 1, 2, 5, 9, 1] and print the number of times element ‘1’ has occurred."
      ],
      "metadata": {
        "id": "jCLj5tRoaZli"
      }
    },
    {
      "cell_type": "code",
      "source": [
        "list_dup = [1, 2, 1, 1, 3, 1, 2, 5, 9, 1]\n",
        "list_dup.count(1)"
      ],
      "metadata": {
        "colab": {
          "base_uri": "https://localhost:8080/"
        },
        "id": "ZmGjDZgPaA1e",
        "outputId": "fc8e6090-ec7d-411e-e7f2-00482e2212ae"
      },
      "execution_count": null,
      "outputs": [
        {
          "output_type": "execute_result",
          "data": {
            "text/plain": [
              "5"
            ]
          },
          "metadata": {},
          "execution_count": 35
        }
      ]
    },
    {
      "cell_type": "markdown",
      "source": [
        "f.\tPrint length of list_dup."
      ],
      "metadata": {
        "id": "NBCCS6uObAL7"
      }
    },
    {
      "cell_type": "code",
      "source": [
        "print(len(list_dup))"
      ],
      "metadata": {
        "colab": {
          "base_uri": "https://localhost:8080/"
        },
        "id": "J3TrOhf9ayA2",
        "outputId": "289ce120-af69-4bed-ba2d-af3b9027ec65"
      },
      "execution_count": null,
      "outputs": [
        {
          "output_type": "stream",
          "name": "stdout",
          "text": [
            "10\n"
          ]
        }
      ]
    },
    {
      "cell_type": "markdown",
      "source": [
        "a.\tCreate a dictionary named student_marks that maps the names of five students to their marks (use scale of from 0 to 100)."
      ],
      "metadata": {
        "id": "CA7mwTFAjBTs"
      }
    },
    {
      "cell_type": "code",
      "source": [
        "student_marks = {'John': 90, 'Jane': 80, 'Jack': 70, 'Jill': 60, 'Joe': 50}\n",
        "student_marks"
      ],
      "metadata": {
        "id": "mZZfBYHHbFgX",
        "colab": {
          "base_uri": "https://localhost:8080/"
        },
        "outputId": "03558fb7-05fe-4551-c3b4-a5c486ee4cec"
      },
      "execution_count": 11,
      "outputs": [
        {
          "output_type": "execute_result",
          "data": {
            "text/plain": [
              "{'John': 90, 'Jane': 80, 'Jack': 70, 'Jill': 60, 'Joe': 50}"
            ]
          },
          "metadata": {},
          "execution_count": 11
        }
      ]
    },
    {
      "cell_type": "markdown",
      "source": [
        "b.\tAccess and print the mark of a specific student, of your choice."
      ],
      "metadata": {
        "id": "nYgDz9dGjMBB"
      }
    },
    {
      "cell_type": "code",
      "source": [
        "Jane_mark = student_marks['Jane']\n",
        "print(f'Jane\\'s mark: {Jane_mark}')"
      ],
      "metadata": {
        "id": "WOSefIdEjH5u",
        "colab": {
          "base_uri": "https://localhost:8080/"
        },
        "outputId": "6fa40431-25a7-4fa1-ba95-e5ba20fba268"
      },
      "execution_count": 14,
      "outputs": [
        {
          "output_type": "stream",
          "name": "stdout",
          "text": [
            "Jane's mark: 80\n"
          ]
        }
      ]
    },
    {
      "cell_type": "markdown",
      "source": [
        "a.\tAdd a new student \"Janani\" with a mark of 80 to the student_marks dictionary."
      ],
      "metadata": {
        "id": "TxHIIKJmnUup"
      }
    },
    {
      "cell_type": "code",
      "source": [
        "student_marks['Janani'] = 80\n",
        "student_marks"
      ],
      "metadata": {
        "colab": {
          "base_uri": "https://localhost:8080/"
        },
        "id": "tI6jYc0YkkRE",
        "outputId": "9c9c2c29-aea3-478f-83ef-d86ad75a520c"
      },
      "execution_count": 16,
      "outputs": [
        {
          "output_type": "execute_result",
          "data": {
            "text/plain": [
              "{'John': 90, 'Jane': 80, 'Jack': 70, 'Jill': 60, 'Joe': 50, 'Janani': 80}"
            ]
          },
          "metadata": {},
          "execution_count": 16
        }
      ]
    },
    {
      "cell_type": "markdown",
      "source": [
        "b.\tUpdate the mark of any one older student to 82."
      ],
      "metadata": {
        "id": "IFXGbK72pTYE"
      }
    },
    {
      "cell_type": "code",
      "source": [
        "student_marks['John'] = 82\n",
        "student_marks"
      ],
      "metadata": {
        "colab": {
          "base_uri": "https://localhost:8080/"
        },
        "id": "iXnw0qc4oFA0",
        "outputId": "84051b46-b397-4acb-8983-7f8b727e7830"
      },
      "execution_count": 17,
      "outputs": [
        {
          "output_type": "execute_result",
          "data": {
            "text/plain": [
              "{'John': 82, 'Jane': 80, 'Jack': 70, 'Jill': 60, 'Joe': 50, 'Janani': 80}"
            ]
          },
          "metadata": {},
          "execution_count": 17
        }
      ]
    },
    {
      "cell_type": "markdown",
      "source": [
        "c.\tUse the keys(), values(), and items() methods to print all keys, values, and key-value pairs in the student_marks dictionary."
      ],
      "metadata": {
        "id": "hiL4JeTiphzG"
      }
    },
    {
      "cell_type": "code",
      "source": [
        "student_marks = {'John': 90, 'Jane': 80, 'Jack': 70, 'Jill': 60, 'Joe': 50}\n",
        "print(f'keys: {student_marks.keys()}')\n",
        "print(f'values: {student_marks.values()}')\n",
        "print(f'items: {student_marks.items()}')"
      ],
      "metadata": {
        "colab": {
          "base_uri": "https://localhost:8080/"
        },
        "id": "ymbps9GPpd6t",
        "outputId": "dc0b5cdd-3c7e-4a5d-e716-97f477f379b7"
      },
      "execution_count": 19,
      "outputs": [
        {
          "output_type": "stream",
          "name": "stdout",
          "text": [
            "keys: dict_keys(['John', 'Jane', 'Jack', 'Jill', 'Joe'])\n",
            "values: dict_values([90, 80, 70, 60, 50])\n",
            "items: dict_items([('John', 90), ('Jane', 80), ('Jack', 70), ('Jill', 60), ('Joe', 50)])\n"
          ]
        }
      ]
    },
    {
      "cell_type": "markdown",
      "source": [
        "a.\tCreate a set called my_set with following values:   \n",
        "\t['a','e','i','o','u','a','a','i']\n",
        "Analyse the output and provide explanation for the same."
      ],
      "metadata": {
        "id": "NMqVbHN-q8CX"
      }
    },
    {
      "cell_type": "code",
      "source": [
        "my_set = ['a','e','i','o','u','a','a','i']\n",
        "my_set = set(my_set)\n",
        "my_set"
      ],
      "metadata": {
        "colab": {
          "base_uri": "https://localhost:8080/"
        },
        "id": "hG73DV_sqMOc",
        "outputId": "4edd618b-ecda-4bc4-e0da-33dc6c41477d"
      },
      "execution_count": 22,
      "outputs": [
        {
          "output_type": "execute_result",
          "data": {
            "text/plain": [
              "['a', 'e', 'i', 'o', 'u', 'a', 'a', 'i']"
            ]
          },
          "metadata": {},
          "execution_count": 22
        }
      ]
    },
    {
      "cell_type": "markdown",
      "source": [
        "b.\tAttempt to change the value of my_set[4] = 's'. If code throws an error, provide an explanation."
      ],
      "metadata": {
        "id": "2NTA3ucDsf5S"
      }
    },
    {
      "cell_type": "code",
      "source": [
        "my_set[4] = 's'\n",
        "my_set"
      ],
      "metadata": {
        "colab": {
          "base_uri": "https://localhost:8080/"
        },
        "id": "BRxIMKl5rfpc",
        "outputId": "086f0589-1567-4371-a5c0-fd3ed6474a70"
      },
      "execution_count": 23,
      "outputs": [
        {
          "output_type": "execute_result",
          "data": {
            "text/plain": [
              "['a', 'e', 'i', 'o', 's', 'a', 'a', 'i']"
            ]
          },
          "metadata": {},
          "execution_count": 23
        }
      ]
    },
    {
      "cell_type": "markdown",
      "source": [
        "c.\tCreate two sets:\n",
        "\tset1 with values: {1, 3, 5, 7, 9}\n",
        "\tset2 with values: {2, 3, 5, 8, 10}\n"
      ],
      "metadata": {
        "id": "Kfsdav8stZ-f"
      }
    },
    {
      "cell_type": "code",
      "source": [
        "set1 = {1,3,5,7,9}\n",
        "set2 = {2,3,5,8,10}"
      ],
      "metadata": {
        "colab": {
          "base_uri": "https://localhost:8080/"
        },
        "id": "kST7CEcytSau",
        "outputId": "db822960-d324-4772-8d4f-ea5310d8c490"
      },
      "execution_count": 25,
      "outputs": [
        {
          "output_type": "execute_result",
          "data": {
            "text/plain": [
              "{1, 3, 5, 7, 9}"
            ]
          },
          "metadata": {},
          "execution_count": 25
        }
      ]
    },
    {
      "cell_type": "markdown",
      "source": [
        "d.\tCompute the union of set1 and set2, and print the result."
      ],
      "metadata": {
        "id": "PnKLSoc1uBFL"
      }
    },
    {
      "cell_type": "code",
      "source": [
        "union_set = set1.union(set2)\n",
        "union_set"
      ],
      "metadata": {
        "colab": {
          "base_uri": "https://localhost:8080/"
        },
        "id": "b9df-vwZtwaZ",
        "outputId": "4bfe530c-776d-44a6-bc4a-67025eb09d40"
      },
      "execution_count": 26,
      "outputs": [
        {
          "output_type": "execute_result",
          "data": {
            "text/plain": [
              "{1, 2, 3, 5, 7, 8, 9, 10}"
            ]
          },
          "metadata": {},
          "execution_count": 26
        }
      ]
    },
    {
      "cell_type": "markdown",
      "source": [
        "e.\tPerform an intersection operation between set1 and set2, and print the result."
      ],
      "metadata": {
        "id": "VGWkYBN9u_1s"
      }
    },
    {
      "cell_type": "code",
      "source": [
        "intersection_set = set1.intersection(set2)\n",
        "intersection_set"
      ],
      "metadata": {
        "colab": {
          "base_uri": "https://localhost:8080/"
        },
        "id": "grlV5OMAu8gO",
        "outputId": "c6d7caed-4f89-4cfe-efe4-94099f34d19f"
      },
      "execution_count": 27,
      "outputs": [
        {
          "output_type": "execute_result",
          "data": {
            "text/plain": [
              "{3, 5}"
            ]
          },
          "metadata": {},
          "execution_count": 27
        }
      ]
    },
    {
      "cell_type": "markdown",
      "source": [
        "a.\tCreate a frozenset named immutable_set containing the integers: 1, 2, 3, 4,\n",
        "5. Print the frozenset."
      ],
      "metadata": {
        "id": "mZUNWykLvZNC"
      }
    },
    {
      "cell_type": "code",
      "source": [
        "immutable_set = frozenset([1,2,3,4,5])\n",
        "immutable_set"
      ],
      "metadata": {
        "colab": {
          "base_uri": "https://localhost:8080/"
        },
        "id": "PW9u6iiPvSu-",
        "outputId": "2567782f-124f-40f2-a812-879466bc8352"
      },
      "execution_count": 28,
      "outputs": [
        {
          "output_type": "execute_result",
          "data": {
            "text/plain": [
              "frozenset({1, 2, 3, 4, 5})"
            ]
          },
          "metadata": {},
          "execution_count": 28
        }
      ]
    },
    {
      "cell_type": "markdown",
      "source": [
        "b.\tTry to add an element (e.g., 6) to the immutable_set frozenset. Observe and describe any exceptions that occur."
      ],
      "metadata": {
        "id": "to1r3GoCv59T"
      }
    },
    {
      "cell_type": "code",
      "source": [
        "immutable_set.add(6)\n",
        "immutable_set"
      ],
      "metadata": {
        "colab": {
          "base_uri": "https://localhost:8080/",
          "height": 166
        },
        "id": "_r7LyRNcv2i9",
        "outputId": "322da311-6e9c-4755-ea36-338c2c0cb6fe"
      },
      "execution_count": 29,
      "outputs": [
        {
          "output_type": "error",
          "ename": "AttributeError",
          "evalue": "'frozenset' object has no attribute 'add'",
          "traceback": [
            "\u001b[0;31m---------------------------------------------------------------------------\u001b[0m",
            "\u001b[0;31mAttributeError\u001b[0m                            Traceback (most recent call last)",
            "\u001b[0;32m<ipython-input-29-053e864eadc6>\u001b[0m in \u001b[0;36m<cell line: 0>\u001b[0;34m()\u001b[0m\n\u001b[0;32m----> 1\u001b[0;31m \u001b[0mimmutable_set\u001b[0m\u001b[0;34m.\u001b[0m\u001b[0madd\u001b[0m\u001b[0;34m(\u001b[0m\u001b[0;36m6\u001b[0m\u001b[0;34m)\u001b[0m\u001b[0;34m\u001b[0m\u001b[0;34m\u001b[0m\u001b[0m\n\u001b[0m\u001b[1;32m      2\u001b[0m \u001b[0mimmutable_set\u001b[0m\u001b[0;34m\u001b[0m\u001b[0;34m\u001b[0m\u001b[0m\n",
            "\u001b[0;31mAttributeError\u001b[0m: 'frozenset' object has no attribute 'add'"
          ]
        }
      ]
    },
    {
      "cell_type": "code",
      "source": [],
      "metadata": {
        "id": "8rtXi-_1wBTY"
      },
      "execution_count": null,
      "outputs": []
    }
  ]
}